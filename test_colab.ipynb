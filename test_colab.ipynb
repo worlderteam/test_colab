{
  "cells": [
    {
      "cell_type": "markdown",
      "metadata": {
        "id": "Jlewyp2E7gdc"
      },
      "source": [
        "# Test Colab"
      ]
    },
    {
      "cell_type": "code",
      "execution_count": 1,
      "metadata": {
        "id": "li8WHu_h7gdf"
      },
      "outputs": [],
      "source": [
        "import numpy as np"
      ]
    },
    {
      "cell_type": "code",
      "source": [
        "import pdb"
      ],
      "metadata": {
        "id": "CmGINr8G75PQ"
      },
      "execution_count": 2,
      "outputs": []
    },
    {
      "cell_type": "code",
      "source": [
        "array_1d = np.arange(10)\n",
        "print(\"1D array: \", array_1d)"
      ],
      "metadata": {
        "id": "TR6fE3n6Ekoa",
        "outputId": "ee4e0c7c-1bd3-4e6b-a6d7-928b0cbd0f49",
        "colab": {
          "base_uri": "https://localhost:8080/"
        }
      },
      "execution_count": 3,
      "outputs": [
        {
          "output_type": "stream",
          "name": "stdout",
          "text": [
            "1D array:  [0 1 2 3 4 5 6 7 8 9]\n"
          ]
        }
      ]
    },
    {
      "cell_type": "code",
      "source": [
        "array_2d = np.arange(9).reshape(3, 3)\n",
        "print(\"2D Array:\\n\", array_2d)"
      ],
      "metadata": {
        "id": "Ey1oRG1LFB2P",
        "outputId": "0cf19c10-8b85-4778-d0e7-2d2b78bf60dd",
        "colab": {
          "base_uri": "https://localhost:8080/"
        }
      },
      "execution_count": 4,
      "outputs": [
        {
          "output_type": "stream",
          "name": "stdout",
          "text": [
            "2D Array:\n",
            " [[0 1 2]\n",
            " [3 4 5]\n",
            " [6 7 8]]\n"
          ]
        }
      ]
    },
    {
      "cell_type": "code",
      "source": [
        "array_3d = np.random.random((2, 2, 2))\n",
        "print(\"3D Array:\\n\", array_3d)"
      ],
      "metadata": {
        "id": "eNfBgUR3FEIc",
        "outputId": "a1f536b1-2a85-4cfb-e8b3-2742e85e21d1",
        "colab": {
          "base_uri": "https://localhost:8080/"
        }
      },
      "execution_count": 5,
      "outputs": [
        {
          "output_type": "stream",
          "name": "stdout",
          "text": [
            "3D Array:\n",
            " [[[0.32766574 0.16932346]\n",
            "  [0.87055542 0.25086143]]\n",
            "\n",
            " [[0.69213842 0.35267948]\n",
            "  [0.24979679 0.46560699]]]\n"
          ]
        }
      ]
    }
  ],
  "metadata": {
    "language_info": {
      "name": "python"
    },
    "colab": {
      "provenance": []
    },
    "kernelspec": {
      "name": "python3",
      "display_name": "Python 3"
    }
  },
  "nbformat": 4,
  "nbformat_minor": 0
}