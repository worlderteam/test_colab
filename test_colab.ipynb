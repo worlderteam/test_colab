{
  "cells": [
    {
      "cell_type": "markdown",
      "metadata": {
        "id": "Jlewyp2E7gdc"
      },
      "source": [
        "# Test Colab"
      ]
    },
    {
      "cell_type": "code",
      "execution_count": 3,
      "metadata": {
        "id": "li8WHu_h7gdf"
      },
      "outputs": [],
      "source": [
        "import numpy as np"
      ]
    },
    {
      "cell_type": "code",
      "source": [
        "import pdb"
      ],
      "metadata": {
        "id": "CmGINr8G75PQ"
      },
      "execution_count": 4,
      "outputs": []
    }
  ],
  "metadata": {
    "language_info": {
      "name": "python"
    },
    "colab": {
      "provenance": []
    },
    "kernelspec": {
      "name": "python3",
      "display_name": "Python 3"
    }
  },
  "nbformat": 4,
  "nbformat_minor": 0
}