{
 "cells": [
  {
   "cell_type": "code",
   "execution_count": null,
   "metadata": {
    "id": "2EYP811AZQZ6"
   },
   "outputs": [],
   "source": []
  },
  {
   "cell_type": "code",
   "execution_count": 158,
   "metadata": {
    "id": "r7A67OnlZ3rI"
   },
   "outputs": [],
   "source": [
    "import numpy as np\n",
    "import pandas as pd\n",
    "import json\n",
    "\n",
    "import os\n",
    "import sys\n",
    "from copy import deepcopy\n",
    "import pdb\n",
    "import pprint\n",
    "import time"
   ]
  },
  {
   "cell_type": "code",
   "execution_count": 159,
   "metadata": {
    "id": "9w4W-0_AZ9S7"
   },
   "outputs": [],
   "source": [
    "edie_report= {\n",
    "  \"high_aq_count\": 0,\n",
    "  \"high_aq_set\": [],\n",
    "  \"conversion_count\": 0,\n",
    "  \"total_humans\": 0,\n",
    "  \"live_valid_humans\": 0,\n",
    "  \"live_humans\": 0,\n",
    "  \"valid_humans\": 0,\n",
    "  \"total_leaving\": 0,\n",
    "  \"total_ignored\": 0,\n",
    "  \"total_crossed_over\": 0,\n",
    "  \"table_membership_duration\": {\n",
    "    \"P_1\": {\n",
    "      \"0\":0.0\n",
    "    },\n",
    "    \"P_0\": {\n",
    "      \"0\": 0.0\n",
    "    }\n",
    "  },\n",
    "  \"table_membership_high_aq\": {\n",
    "    \"P_1\": [],\n",
    "    \"P_0\": []\n",
    "  },\n",
    "  \"roi_staff\": [],\n",
    "  \"attentive_staff\": [],\n",
    "  \"attentive_interactions\": [],\n",
    "  \"attentive_events\": {},\n",
    "  \"attended_converted_count\": 0,\n",
    "  \"attended_converted_set\": [],\n",
    "  \"attended_set\": [],\n",
    "  \"aq_converted_set\": [],\n",
    "  \"customer_attention_log\": {},\n",
    "  \"customer_conversion_log\": {},\n",
    "  \"customer_entry_log\": {\n",
    "    \"0\": 0\n",
    "  },\n",
    "  \"checkpoint_snapshot\": None,\n",
    "  \"frame\": 0\n",
    "}\n"
   ]
  },
  {
   "cell_type": "code",
   "execution_count": null,
   "metadata": {
    "id": "mqyOh12GaDmv"
   },
   "outputs": [],
   "source": []
  },
  {
   "cell_type": "markdown",
   "metadata": {
    "id": "3LGYOuw_aFsz"
   },
   "source": [
    "##Configure attributes for report"
   ]
  },
  {
   "cell_type": "code",
   "execution_count": 160,
   "metadata": {
    "id": "vtuCmF3TaJs5"
   },
   "outputs": [],
   "source": [
    "#Globals\n",
    "# _P indicates values as percentage\n",
    "\n",
    "TOT_HUMANS = 100\n",
    "VALID_HUMANS_P = 0.8\n",
    "TOT_STAFF = 5\n",
    "ATTENTIVE_STAFF_P = 0.5\n",
    "TOT_ATTENTIVE_STAFF_EVENTS = 6\n",
    "ENTERED_CUSTOMERS_P = 0.2\n",
    "SQ_EVENTS = 30\n",
    "AQ_EVENTS = 30\n",
    "\n",
    "CONVERSION_WITH_STAFF_ENGAGEMENT_P=0.3\n",
    "CONVERSION_WITHOUT_STAFF_ENGAGEMENT_P = 1-CONVERSION_WITH_STAFF_ENGAGEMENT_P\n",
    "\n",
    "TOP_STAFF=None\n",
    "TOT_FRAMES = 143355\n",
    "\n",
    "#\n",
    "average_customer_traffic = 8"
   ]
  },
  {
   "cell_type": "markdown",
   "metadata": {
    "id": "LulHAtfib83X"
   },
   "source": [
    "## Generate IDs for various categories of humans and entities in the report"
   ]
  },
  {
   "cell_type": "code",
   "execution_count": 161,
   "metadata": {
    "id": "YLq89MJvb92n"
   },
   "outputs": [],
   "source": [
    "shuffled_index_val = np.arange(0,2*TOT_HUMANS)\n",
    "np.random.shuffle(shuffled_index_val)\n",
    "\n",
    "\n",
    "tot_humans = shuffled_index_val[0:TOT_HUMANS]\n",
    "tot_humans_set = set(tot_humans)\n",
    "tot_frames = np.arange(0,TOT_FRAMES)\n",
    "\n",
    "\n",
    "valid_human_count = int(VALID_HUMANS_P*TOT_HUMANS)\n",
    "entered_customer_count = int(ENTERED_CUSTOMERS_P*valid_human_count)\n",
    "\n",
    "valid_humans = shuffled_index_val[0:valid_human_count]\n",
    "staff_id = shuffled_index_val[valid_human_count:valid_human_count+TOT_STAFF]\n",
    "tot_attentive_staff = int(ATTENTIVE_STAFF_P*len(staff_id))\n",
    "attentive_staff_id = staff_id[0:tot_attentive_staff]\n",
    "\n",
    "entered_customers = valid_humans[0:entered_customer_count]\n",
    "\n",
    "valid_humans_set = set(valid_humans)\n",
    "entered_customer_set = set(entered_customers)\n",
    "remaining_humans = tot_humans_set.difference(valid_humans_set)"
   ]
  },
  {
   "cell_type": "markdown",
   "metadata": {
    "id": "KQc2n1dXcHOa"
   },
   "source": [
    "## Generate various events between entities"
   ]
  },
  {
   "cell_type": "markdown",
   "metadata": {
    "id": "o30uEiBpcYRG"
   },
   "source": [
    "### Create log of customer entry"
   ]
  },
  {
   "cell_type": "code",
   "execution_count": 162,
   "metadata": {
    "id": "i8YJexG-cacx"
   },
   "outputs": [],
   "source": [
    "#entered customers\n",
    "\n",
    "tot_frame_index = np.arange(0,TOT_FRAMES)\n",
    "shuffled_frame_index = deepcopy(tot_frame_index)\n",
    "np.random.shuffle(shuffled_frame_index)\n",
    "# if we need customer ids to be sorted\n",
    "entered_customers = np.sort(entered_customers)\n",
    "\n",
    "entered_customer_frames = shuffled_frame_index[0:entered_customer_count]\n",
    "entered_customer_frames = np.sort(entered_customer_frames) # sort frames in ascending for chronological reasons\n",
    "\n",
    "customer_entry_log = dict(zip(entered_customers, entered_customer_frames))"
   ]
  },
  {
   "cell_type": "markdown",
   "metadata": {
    "id": "MspyWEOWcd-K"
   },
   "source": [
    "### Create log of staff-customer interactions"
   ]
  },
  {
   "cell_type": "code",
   "execution_count": 163,
   "metadata": {
    "id": "ETE6tBD5cgHO"
   },
   "outputs": [],
   "source": [
    "# attended events\n",
    "\n",
    "dist_segments = len(attentive_staff_id)\n",
    "dist_weights = np.random.randint(1,10,dist_segments)\n",
    "dist_weights = np.float64(dist_weights)/sum(dist_weights)\n",
    "\n",
    "attention_event_count = dist_weights*TOT_ATTENTIVE_STAFF_EVENTS\n",
    "attention_event_count = (attention_event_count).astype(np.uint64)\n",
    "attention_event_count[-1] = TOT_ATTENTIVE_STAFF_EVENTS - sum(attention_event_count[0:-1])\n",
    "# print(attention_event_count)\n",
    "\n",
    "attentive_event_log = {}\n",
    "attended_list = []\n",
    "for idx,val in enumerate(attentive_staff_id):\n",
    "    attentive_event_log.update({val:{}})\n",
    "    n_events = attention_event_count[idx]\n",
    "    event_customers = np.random.choice(entered_customers, n_events, replace=True)\n",
    "    event_frames = [np.random.randint(customer_entry_log[val], TOT_FRAMES) for val in event_customers]\n",
    "    event_log = dict(zip(event_customers,event_frames))\n",
    "    attentive_event_log.update({val:event_log})\n",
    "    attended_list.append(list(event_customers.ravel()))"
   ]
  },
  {
   "cell_type": "markdown",
   "metadata": {
    "id": "7rF_uCDjOc5m"
   },
   "source": [
    "### Create list of attended customers\n",
    "attended_list = list(map(list, zip(*staff_attention_set)))[1]"
   ]
  },
  {
   "cell_type": "markdown",
   "metadata": {
    "id": "WrG1mOJqcjQM"
   },
   "source": [
    "## Generate edie report based on config"
   ]
  },
  {
   "cell_type": "code",
   "execution_count": 164,
   "metadata": {
    "id": "-k4la4nRcl4Y"
   },
   "outputs": [],
   "source": [
    "edie_report.update({\"frame\":TOT_FRAMES})\n",
    "edie_report.update({\"valid_humans\": valid_human_count})\n",
    "edie_report.update({\"total_humans\":TOT_HUMANS})\n",
    "edie_report.update({\"roi_staff\":list(staff_id)})\n",
    "edie_report.update({\"customer_entry_log\":customer_entry_log})\n",
    "edie_report.update({\"attentive_events\":attentive_event_log})\n",
    "edie_report.update({\"attended_set\":set(sum(attended_list,[]))})\n",
    "edie_report.update({\"attentive_staff\":set(attentive_staff_id)})"
   ]
  },
  {
   "cell_type": "code",
   "execution_count": 165,
   "metadata": {
    "colab": {
     "base_uri": "https://localhost:8080/"
    },
    "id": "MYVyoPy-cpDR",
    "outputId": "ef06ac78-1d1c-40f8-fe91-1dafce783508"
   },
   "outputs": [
    {
     "name": "stdout",
     "output_type": "stream",
     "text": [
      "{'aq_converted_set': [],\n",
      " 'attended_converted_count': 0,\n",
      " 'attended_converted_set': [],\n",
      " 'attended_set': {163, 37, 143, 15, 111},\n",
      " 'attentive_events': {38: {15: 123883,\n",
      "                           37: 48981,\n",
      "                           111: 113295,\n",
      "                           143: 102982,\n",
      "                           163: 129201},\n",
      "                      55: {}},\n",
      " 'attentive_interactions': [],\n",
      " 'attentive_staff': {38, 55},\n",
      " 'checkpoint_snapshot': None,\n",
      " 'conversion_count': 0,\n",
      " 'customer_attention_log': {},\n",
      " 'customer_conversion_log': {},\n",
      " 'customer_entry_log': {15: 3955,\n",
      "                        30: 16844,\n",
      "                        37: 28005,\n",
      "                        54: 29400,\n",
      "                        63: 48436,\n",
      "                        73: 53524,\n",
      "                        80: 64015,\n",
      "                        111: 64466,\n",
      "                        124: 66622,\n",
      "                        139: 70045,\n",
      "                        143: 76814,\n",
      "                        146: 88052,\n",
      "                        154: 101583,\n",
      "                        163: 122971,\n",
      "                        171: 123392,\n",
      "                        181: 133004},\n",
      " 'frame': 143355,\n",
      " 'high_aq_count': 0,\n",
      " 'high_aq_set': [],\n",
      " 'live_humans': 0,\n",
      " 'live_valid_humans': 0,\n",
      " 'roi_staff': [55, 38, 44, 178, 81],\n",
      " 'table_membership_duration': {'P_0': {'0': 0.0}, 'P_1': {'0': 0.0}},\n",
      " 'table_membership_high_aq': {'P_0': [], 'P_1': []},\n",
      " 'total_crossed_over': 0,\n",
      " 'total_humans': 100,\n",
      " 'total_ignored': 0,\n",
      " 'total_leaving': 0,\n",
      " 'valid_humans': 80}\n"
     ]
    }
   ],
   "source": [
    "pprint.pprint(edie_report)"
   ]
  },
  {
   "cell_type": "markdown",
   "metadata": {
    "id": "6B0no44GUprg"
   },
   "source": [
    "### Parameters for Chain-of-thought input"
   ]
  },
  {
   "cell_type": "code",
   "execution_count": 166,
   "metadata": {
    "colab": {
     "base_uri": "https://localhost:8080/"
    },
    "id": "84XNZZRaUxOK",
    "outputId": "bc324a7e-f6f7-456d-8f9c-4c55ada488db"
   },
   "outputs": [
    {
     "name": "stdout",
     "output_type": "stream",
     "text": [
      "n=16\n",
      "s=5\n",
      "s1=2\n",
      "k=5\n"
     ]
    }
   ],
   "source": [
    "n = len(edie_report['customer_entry_log'])\n",
    "s = len(edie_report['roi_staff'])\n",
    "s1 = len(edie_report['attentive_staff'])\n",
    "k = len(edie_report['attended_set'])\n",
    "\n",
    "m = average_customer_traffic\n",
    "\n",
    "print(f'n={n}\\ns={s}\\ns1={s1}\\nk={k}')"
   ]
  },
  {
   "cell_type": "markdown",
   "metadata": {},
   "source": [
    "#### N-shot prompt generation"
   ]
  },
  {
   "cell_type": "code",
   "execution_count": 167,
   "metadata": {},
   "outputs": [],
   "source": [
    "prompt_generator = {\n",
    "    \"How busy was the store today?\":f'Looking at the cutomer_entry_log field, we see that there was a total of {n} customers that entered the store. Since {n} is higher than the average expected traffic of {m} customers, the store seems to have been busy.',\n",
    "    \"Were the customers properly attended to by the staff?\":f'Looking at the customer_entry_log field, we see that there was a total of {n} customers at the store and looking at the attended_set, we see that {k} out of the {n} customers were attended to. So, {k} out of {n} customers were attended to which translates to roughly about {k*100.0/n} percentage of attended customers.',\n",
    "    \"Were the staff busy?\":f'Looking at the roi_staff field, we see that there is a total of {s} staff. Further, looking at the attentive_staff field, we see that a total of {s1} staff attended to customers. This shows that {s1} out of {s} staff were busy.',\n",
    "    \"Did customers need a lot of help from staff?\":f'Looking at the attentive_set field, we see that a total of {k} customers were attended to by staff. Looking at the customer_entry_log, we see that there were a total of {n} customers at the location. Since {k} out {n} customers were attended to, we can conclude that {k*100.0/n} percentage of customers needed help from staff.',\n",
    "    }"
   ]
  },
  {
   "cell_type": "code",
   "execution_count": 170,
   "metadata": {},
   "outputs": [
    {
     "name": "stdout",
     "output_type": "stream",
     "text": [
      "q: How busy was the store today?\n",
      "ans: Looking at the cutomer_entry_log field, we see that there was a total of 16 customers that entered the store. Since 16 is higher than the average expected traffic of 8 customers, the store seems to have been busy.\n",
      "\n",
      "\n",
      "q: Were the customers properly attended to by the staff?\n",
      "ans: Looking at the customer_entry_log field, we see that there was a total of 16 customers at the store and looking at the attended_set, we see that 5 out of the 16 customers were attended to. So, 5 out of 16 customers were attended to which translates to roughly about 31.25 percentage of attended customers.\n",
      "\n",
      "\n",
      "q: Were the staff busy?\n",
      "ans: Looking at the roi_staff field, we see that there is a total of 5 staff. Further, looking at the attentive_staff field, we see that a total of 2 staff attended to customers. This shows that 2 out of 5 staff were busy.\n",
      "\n",
      "\n",
      "q: Did customers need a lot of help from staff?\n",
      "ans: Looking at the attentive_set field, we see that a total of 5 customers were attended to by staff. Looking at the customer_entry_log, we see that there were a total of 16 customers at the location. Since 5 out 16 customers were attended to, we can conclude that 31.25 percentage of customers needed help from staff.\n",
      "\n",
      "\n"
     ]
    }
   ],
   "source": [
    "for key,val in prompt_generator.items(): \n",
    "    print(f'q: {key}\\nans: {val}\\n\\n')\n",
    "    "
   ]
  },
  {
   "cell_type": "code",
   "execution_count": null,
   "metadata": {},
   "outputs": [],
   "source": []
  },
  {
   "cell_type": "code",
   "execution_count": null,
   "metadata": {},
   "outputs": [],
   "source": []
  }
 ],
 "metadata": {
  "colab": {
   "provenance": []
  },
  "kernelspec": {
   "display_name": "Python 3 (ipykernel)",
   "language": "python",
   "name": "python3"
  },
  "language_info": {
   "codemirror_mode": {
    "name": "ipython",
    "version": 3
   },
   "file_extension": ".py",
   "mimetype": "text/x-python",
   "name": "python",
   "nbconvert_exporter": "python",
   "pygments_lexer": "ipython3",
   "version": "3.8.10"
  }
 },
 "nbformat": 4,
 "nbformat_minor": 1
}
